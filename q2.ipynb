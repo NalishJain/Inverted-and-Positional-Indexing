{
 "cells": [
  {
   "cell_type": "code",
   "execution_count": 21,
   "metadata": {},
   "outputs": [],
   "source": [
    "import pickle"
   ]
  },
  {
   "cell_type": "code",
   "execution_count": 18,
   "metadata": {},
   "outputs": [],
   "source": [
    "index_dict = {}\n",
    "\n",
    "def create_index(file_path):\n",
    "    for id in range(1, 3):\n",
    "        processed_file_path = file_path + str(id) + \"processed\" + \".txt\" \n",
    "        with open(processed_file_path, 'r', encoding='utf-8') as file:\n",
    "            text = file.read()\n",
    "        words = text.split(\" \")\n",
    "        words = set(words)\n",
    "        for word in words:\n",
    "            if word not in index_dict:\n",
    "                index_dict[word] = []\n",
    "                index_dict[word].append(id)\n",
    "            else:\n",
    "                index_dict[word].append(id)               \n",
    "        \n",
    "\n",
    "\n"
   ]
  },
  {
   "cell_type": "code",
   "execution_count": 19,
   "metadata": {},
   "outputs": [],
   "source": [
    "create_index(file_path=\"/Users/nalishjain/Documents/GitHub/CSE508_Winter2024_A1_2021543/out_files/file\")"
   ]
  },
  {
   "cell_type": "code",
   "execution_count": 23,
   "metadata": {},
   "outputs": [],
   "source": [
    "with open(\"index_dictionary.pkl\", 'wb') as pickle_file:\n",
    "    pickle.dump(index_dict, pickle_file)"
   ]
  },
  {
   "cell_type": "code",
   "execution_count": 24,
   "metadata": {},
   "outputs": [
    {
     "name": "stdout",
     "output_type": "stream",
     "text": [
      "Loaded Dictionary: {'strat': [1], 'tension': [1], 'springs': [1], 'great': [1, 2], 'stability': [1], 'loving': [1], 'way': [1], 'floating': [1], 'bridge': [1], 'go': [1], 'want': [1], 'good': [1, 2], 'vintage': [1], 'workspace': [2], 'around': [2], 'screws': [2], 'mat': [2], 'makes': [2], 'rugged': [2], 'color': [2], 'much': [2], \"n't\": [2], 'easier': [2], 'guitar': [2], 'enough': [2], 'care': [2], 'roll': [2], 'works': [2], 'abuse': [2], 'wo': [2], 'organization': [2], 'take': [2], 'bench': [2]}\n"
     ]
    }
   ],
   "source": [
    "file_path = 'index_dictionary.pkl'\n",
    "with open(file_path, 'rb') as pickle_file:\n",
    "    loaded_dict = pickle.load(pickle_file)\n",
    "print(\"Loaded Dictionary:\", loaded_dict)"
   ]
  },
  {
   "cell_type": "code",
   "execution_count": null,
   "metadata": {},
   "outputs": [],
   "source": [
    "def execute_query(query, inverted_index, doc_id_mapping):\n",
    "    terms = query.split()\n",
    "    result = None\n",
    "\n",
    "    for i in range(0, len(terms), 2):\n",
    "        operator = terms[i]  # AND, OR, AND NOT, OR NOT\n",
    "        term = terms[i + 1]\n",
    "\n",
    "        if result is None:\n",
    "            result = inverted_index.get(term, set())\n",
    "        else:\n",
    "            if operator == 'AND':\n",
    "                result = result.intersection(inverted_index.get(term, set()))\n",
    "            elif operator == 'OR':\n",
    "                result = result.union(inverted_index.get(term, set()))\n",
    "            elif operator == 'AND NOT':\n",
    "                result = result.difference(inverted_index.get(term, set()))\n",
    "            elif operator == 'OR NOT':\n",
    "                result = result.union(inverted_index.keys()).difference(inverted_index.get(term, set()))\n",
    "\n",
    "    # Display the query results\n",
    "    print(f\"Query {query}:\")\n",
    "    print(f\"Number of documents retrieved: {len(result)}\")\n",
    "    print(f\"Documents retrieved: {', '.join([doc_id_mapping[doc_id] for doc_id in result])}\")\n",
    "    print(\"=\"*50)\n",
    "\n",
    "# Example queries\n",
    "queries = [\n",
    "    \"AND cat OR dog AND NOT bird\",\n",
    "    \"OR apple AND NOT orange OR banana\",\n",
    "    \"AND book OR NOT pen\"\n",
    "]\n",
    "\n",
    "# Execute queries\n",
    "for query in queries:\n",
    "    query = preprocess_text(query)\n",
    "    execute_query(query, loaded_inverted_index, doc_id_mapping)"
   ]
  }
 ],
 "metadata": {
  "kernelspec": {
   "display_name": ".venv",
   "language": "python",
   "name": "python3"
  },
  "language_info": {
   "codemirror_mode": {
    "name": "ipython",
    "version": 3
   },
   "file_extension": ".py",
   "mimetype": "text/x-python",
   "name": "python",
   "nbconvert_exporter": "python",
   "pygments_lexer": "ipython3",
   "version": "3.10.10"
  }
 },
 "nbformat": 4,
 "nbformat_minor": 2
}
