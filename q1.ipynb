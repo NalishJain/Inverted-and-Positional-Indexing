{
 "cells": [
  {
   "cell_type": "code",
   "execution_count": 2,
   "metadata": {},
   "outputs": [
    {
     "name": "stdout",
     "output_type": "stream",
     "text": [
      "2\n"
     ]
    }
   ],
   "source": [
    "import os\n",
    "import nltk\n",
    "from nltk.tokenize import word_tokenize\n",
    "from nltk.corpus import stopwords\n",
    "import string\n",
    "\n",
    "# Ensure NLTK resources are downloaded\n",
    "nltk.download('punkt')\n",
    "nltk.download('stopwords')"
   ]
  },
  {
   "cell_type": "code",
   "execution_count": null,
   "metadata": {},
   "outputs": [],
   "source": [
    "def preprocess_text(text):\n",
    "    text = text.lower()\n",
    "    tokens = word_tokenize(text)\n",
    "    stop_words = set(stopwords.words('english'))\n",
    "\n",
    "    tokens = [word for word in tokens if word.lower() not in stop_words]\n",
    "    tokens = [word for word in tokens if word not in string.punctuation]\n",
    "    tokens = [word for word in tokens if word.strip() != '']\n",
    "    preprocessed_text = ' '.join(tokens)\n",
    "\n",
    "    return preprocessed_text\n",
    "\n",
    "for id in range(1, 10):\n",
    "    input_file_path = \"/Users/nalishjain/Documents/GitHub/CSE508_Winter2024_A1_2021543/text_files/file\" + str(id) + \".txt\" \n",
    "    output_file_path = \"/Users/nalishjain/Documents/GitHub/CSE508_Winter2024_A1_2021543/out_files/file\" + str(id) + \"processed\" + \".txt\" \n",
    "    if id <= 5:\n",
    "\n",
    "        with open(input_file_path, 'r', encoding='utf-8') as file:\n",
    "            print(\"Text before pre-processing\")\n",
    "            text = file.read()\n",
    "            print(text)  \n",
    "        preprocessed_text = preprocess_text(text)\n",
    "\n",
    "        print(\"Text after pre-processing\")\n",
    "        print(preprocessed_text)\n",
    "        print()\n",
    "        with open(output_file_path, 'w', encoding='utf-8') as file:\n",
    "            file.write(preprocessed_text) \n",
    "\n",
    "    else:    \n",
    "        with open(input_file_path, 'r', encoding='utf-8') as file:\n",
    "            text = file.read()\n",
    "\n",
    "        preprocessed_text = preprocess_text(text)\n",
    "        with open(output_file_path, 'w', encoding='utf-8') as file:\n",
    "            file.write(preprocessed_text) "
   ]
  }
 ],
 "metadata": {
  "kernelspec": {
   "display_name": ".venv",
   "language": "python",
   "name": "python3"
  },
  "language_info": {
   "codemirror_mode": {
    "name": "ipython",
    "version": 3
   },
   "file_extension": ".py",
   "mimetype": "text/x-python",
   "name": "python",
   "nbconvert_exporter": "python",
   "pygments_lexer": "ipython3",
   "version": "3.10.10"
  }
 },
 "nbformat": 4,
 "nbformat_minor": 2
}
