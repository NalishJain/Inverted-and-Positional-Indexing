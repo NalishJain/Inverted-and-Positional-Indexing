{
 "cells": [
  {
   "cell_type": "code",
   "execution_count": 79,
   "metadata": {},
   "outputs": [
    {
     "name": "stderr",
     "output_type": "stream",
     "text": [
      "[nltk_data] Downloading package punkt to\n",
      "[nltk_data]     /Users/nalishjain/nltk_data...\n",
      "[nltk_data]   Package punkt is already up-to-date!\n",
      "[nltk_data] Downloading package stopwords to\n",
      "[nltk_data]     /Users/nalishjain/nltk_data...\n",
      "[nltk_data]   Package stopwords is already up-to-date!\n"
     ]
    },
    {
     "data": {
      "text/plain": [
       "True"
      ]
     },
     "execution_count": 79,
     "metadata": {},
     "output_type": "execute_result"
    }
   ],
   "source": [
    "import os\n",
    "import nltk\n",
    "from nltk.tokenize import word_tokenize\n",
    "from nltk.corpus import stopwords\n",
    "import string\n",
    "import pickle\n",
    "\n",
    "# Ensure NLTK resources are downloaded\n",
    "nltk.download('punkt')\n",
    "nltk.download('stopwords')"
   ]
  },
  {
   "cell_type": "code",
   "execution_count": 80,
   "metadata": {},
   "outputs": [
    {
     "name": "stdout",
     "output_type": "stream",
     "text": [
      "Text before pre-processing\n",
      "Loving these vintage springs on my vintage strat. They have a good tension and great stability. If you are floating your bridge and want the most out of your springs than these are the way to go.\n",
      "Text after pre-processing\n",
      "loving vintage springs vintage strat good tension great stability floating bridge want springs way go\n",
      "\n",
      "Text before pre-processing\n",
      "Works great as a guitar bench mat. Not rugged enough for abuse but if you take care of it, it will take care of you. Makes organization of workspace much easier because screws won't roll around. Color is good too.\n",
      "Text after pre-processing\n",
      "works great guitar bench mat rugged enough abuse take care take care makes organization workspace much easier screws wo n't roll around color good\n",
      "\n",
      "Text before pre-processing\n",
      "We use these for everything from our acoustic bass down to our ukuleles. I know there is a smaller model available for ukes, violins, etc.; we haven't yet ordered those, but these will work on smaller instruments if one doesn't extend the feet to their maximum width. They're gentle on the instruments, and the grippy material keeps them secure.\n",
      "\n",
      "The greatest benefit has been when writing music at the computer and needing to set a guitar down to use the keyboard/mouse - just easier for me than a hanging stand.\n",
      "\n",
      "We have several and gave one to a friend for Christmas as well. I've used mine on stage, and it folds up small enough to fit right in my gig bag.\n",
      "Text after pre-processing\n",
      "use everything acoustic bass ukuleles know smaller model available ukes violins etc n't yet ordered work smaller instruments one n't extend feet maximum width 're gentle instruments grippy material keeps secure greatest benefit writing music computer needing set guitar use keyboard/mouse easier hanging stand several gave one friend christmas well 've used mine stage folds small enough fit right gig bag\n",
      "\n",
      "Text before pre-processing\n",
      "Great price and good quality.  It didn't quite match the radius of my sound hole but it was close enough.\n",
      "Text after pre-processing\n",
      "great price good quality n't quite match radius sound hole close enough\n",
      "\n",
      "Text before pre-processing\n",
      "I bought this bass to split time as my primary bass with my Dean Edge. This might be winning me over. The bass boost is outstanding. The active pickups really allow you to adjust to the sound you want. I recommend this for anyone. If you're a beginner  like I was not too long ago, it's an excellent bass to start with. If you're on tour and/or music is making you money, this bass will be beatiful on stage. The color is a bit darker than in the picture. But, all around, this is a great buy.\n",
      "Text after pre-processing\n",
      "bought bass split time primary bass dean edge might winning bass boost outstanding active pickups really allow adjust sound want recommend anyone 're beginner like long ago 's excellent bass start 're tour and/or music making money bass beatiful stage color bit darker picture around great buy\n",
      "\n"
     ]
    }
   ],
   "source": [
    "def preprocess_text(text):\n",
    "    text = text.lower()\n",
    "    tokens = word_tokenize(text)\n",
    "    stop_words = set(stopwords.words('english'))\n",
    "\n",
    "    tokens = [word for word in tokens if word.lower() not in stop_words]\n",
    "    tokens = [word for word in tokens if word not in string.punctuation]\n",
    "    tokens = [word for word in tokens if word.strip() != '']\n",
    "    preprocessed_text = ' '.join(tokens)\n",
    "\n",
    "    return preprocessed_text\n",
    "\n",
    "for id in range(1, 10):\n",
    "    input_file_path = \"/Users/nalishjain/Documents/GitHub/CSE508_Winter2024_A1_2021543/text_files/file\" + str(id) + \".txt\" \n",
    "    output_file_path = \"/Users/nalishjain/Documents/GitHub/CSE508_Winter2024_A1_2021543/out_files/file\" + str(id) + \"processed\" + \".txt\" \n",
    "    if id <= 5:\n",
    "\n",
    "        with open(input_file_path, 'r', encoding='utf-8') as file:\n",
    "            print(\"Text before pre-processing\")\n",
    "            text = file.read()\n",
    "            print(text)  \n",
    "        preprocessed_text = preprocess_text(text)\n",
    "\n",
    "        print(\"Text after pre-processing\")\n",
    "        print(preprocessed_text)\n",
    "        print()\n",
    "        with open(output_file_path, 'w', encoding='utf-8') as file:\n",
    "            file.write(preprocessed_text) \n",
    "\n",
    "    else:    \n",
    "        with open(input_file_path, 'r', encoding='utf-8') as file:\n",
    "            text = file.read()\n",
    "\n",
    "        preprocessed_text = preprocess_text(text)\n",
    "        with open(output_file_path, 'w', encoding='utf-8') as file:\n",
    "            file.write(preprocessed_text) "
   ]
  },
  {
   "cell_type": "code",
   "execution_count": 81,
   "metadata": {},
   "outputs": [],
   "source": [
    "def create_index(file_path):\n",
    "    index_dict = {}\n",
    "    for id in range(1, 10):\n",
    "        processed_file_path = file_path + str(id) + \"processed\" + \".txt\" \n",
    "        with open(processed_file_path, 'r', encoding='utf-8') as file:\n",
    "            text = file.read()\n",
    "        words = text.split(\" \")\n",
    "        words = set(words)\n",
    "        for word in words:\n",
    "            if word not in index_dict:\n",
    "                index_dict[word] = set()\n",
    "                index_dict[word].add(id)\n",
    "            else:\n",
    "                index_dict[word].add(id)  \n",
    "    return index_dict\n",
    "    "
   ]
  },
  {
   "cell_type": "code",
   "execution_count": 82,
   "metadata": {},
   "outputs": [
    {
     "name": "stdout",
     "output_type": "stream",
     "text": [
      "Loaded Dictionary: {'strat': {1}, 'springs': {1}, 'go': {1}, 'stability': {1}, 'bridge': {1}, 'floating': {1}, 'way': {1}, 'want': {1, 5}, 'vintage': {1}, 'tension': {1}, 'great': {1, 2, 4, 5, 8}, 'good': {1, 2, 4, 8, 9}, 'loving': {1}, 'color': {2, 5}, 'enough': {2, 3, 4}, 'roll': {2}, 'works': {2}, 'much': {8, 2}, 'around': {2, 5, 6}, 'abuse': {2}, 'bench': {2}, 'rugged': {2}, 'screws': {2}, 'makes': {2}, 'wo': {2}, 'easier': {8, 2, 3}, \"n't\": {2, 3, 4, 6}, 'mat': {2}, 'organization': {2}, 'workspace': {2}, 'guitar': {8, 2, 3, 7}, 'take': {2}, 'care': {2}, 'extend': {3}, 'secure': {3}, 'fit': {9, 3}, 'right': {3}, 'hanging': {3}, 'use': {3}, 'violins': {3}, 'one': {9, 3}, 'christmas': {3}, 'several': {3}, 'gave': {3}, 'set': {3}, 'yet': {3}, 'available': {3}, 'bass': {3, 5}, \"'ve\": {8, 3}, \"'re\": {3, 5}, 'material': {3}, 'everything': {3}, 'grippy': {3}, 'keeps': {3}, 'acoustic': {8, 3}, 'work': {3}, 'computer': {3}, 'ordered': {3}, 'smaller': {3}, 'width': {3}, 'music': {3, 5}, 'needing': {3}, 'stand': {9, 3}, 'friend': {3}, 'feet': {3}, 'small': {3, 6}, 'benefit': {3}, 'used': {3}, 'instruments': {3}, 'model': {3}, 'keyboard/mouse': {3}, 'ukuleles': {3}, 'gig': {3}, 'greatest': {3}, 'maximum': {3}, 'stage': {3, 5}, 'etc': {3}, 'folds': {3}, 'well': {3}, 'bag': {3}, 'gentle': {3}, 'writing': {3}, 'ukes': {3}, 'mine': {3}, 'know': {3}, 'quite': {4}, 'hole': {4}, 'price': {4, 7}, 'sound': {4, 5}, 'quality': {8, 4}, 'close': {4}, 'radius': {4}, 'match': {4}, 'dean': {5}, 'winning': {5}, 'picture': {5}, 'might': {5}, 'active': {5}, 'split': {5}, 'outstanding': {5}, 'like': {5}, 'making': {5}, 'beatiful': {5}, 'excellent': {5}, 'time': {5}, 'ago': {5}, 'money': {5}, 'recommend': {5}, 'buy': {5, 7}, 'darker': {5}, 'boost': {5}, 'adjust': {5}, 'edge': {5}, 'pickups': {5}, 'beginner': {5}, 'really': {5}, 'bought': {9, 5}, \"'s\": {8, 5, 6}, 'tour': {5}, 'primary': {5}, 'and/or': {5}, 'start': {5}, 'allow': {5}, 'long': {5}, 'bit': {5}, 'anyone': {5}, 'tune': {6}, 'fortissimo': {6}, 'fun': {6}, 'solid': {6}, 'side': {6}, 'built': {6}, 'cheap': {6, 7}, 'handle': {6}, 'pro': {6}, 'ca': {6}, 'play': {6}, 'con': {6}, 'indonesia': {6}, 'made': {8, 6}, 'toy': {6}, 'loud': {6}, 'instrument': {6}, 'easy': {8, 6}, 'carry': {6}, 'notes': {6}, 'best': {7}, 'hangers': {7}, '...': {7}, 'still': {9, 7}, 'beat': {7}, 'market': {7}, 'absolute': {7}, 'wise': {8}, 'came': {8}, 'labeled': {8}, 'past': {8}, 'classical': {8}, 'purchased': {8}, 'quick': {8}, 'touch': {8}, 'putting': {8}, 'nylon': {8}, 'softer': {8}, 'daughter': {8}, 'number': {8}, 'name': {8}, 'fine': {8}, 'strings': {8}, 'mini': {8}, 'expected': {8}, 'steel': {8}, 'worked': {8}, 'learn': {8}, 'note': {8}, 'expensive': {8}, 'string': {8}, 'little': {9}, 'problems': {9}, 'safe': {9}, 'blessed': {9}, 'poutch': {9}, 'alto': {9}, 'sax': {9}, 'front': {9}, 'reliable': {9}, 'peg': {9}, 'church': {9}, 'soprano': {9}, 'realy': {9}, 'case': {9}, 'lose': {9}, 'thing': {9}, 'exstra': {9}}\n"
     ]
    }
   ],
   "source": [
    "index_dict = create_index(file_path=\"/Users/nalishjain/Documents/GitHub/CSE508_Winter2024_A1_2021543/out_files/file\")\n",
    "with open(\"index_dictionary.pkl\", 'wb') as pickle_file:\n",
    "    pickle.dump(index_dict, pickle_file)\n",
    "\n",
    "file_path = 'index_dictionary.pkl'\n",
    "with open(file_path, 'rb') as pickle_file:\n",
    "    loaded_dict = pickle.load(pickle_file)\n",
    "print(\"Loaded Dictionary:\", loaded_dict)"
   ]
  },
  {
   "cell_type": "code",
   "execution_count": 40,
   "metadata": {},
   "outputs": [
    {
     "name": "stdout",
     "output_type": "stream",
     "text": [
      "{8, 2, 3}\n",
      "{1, 2, 4, 8, 9}\n",
      "<class 'set'>\n"
     ]
    }
   ],
   "source": [
    "# word1 = index_dict.get('easier', set())\n",
    "# print(word1)\n",
    "# word2 = index_dict.get('good', set())\n",
    "# print(word2)\n",
    "# print(type(word2))"
   ]
  },
  {
   "cell_type": "code",
   "execution_count": 83,
   "metadata": {},
   "outputs": [],
   "source": [
    "def take_input(n):\n",
    "    terms_list = []\n",
    "    operators_list = []\n",
    "    for i in range(n):\n",
    "        input_user = input(\"Enter sentence : \")\n",
    "        # print(input_user)\n",
    "        input_user = preprocess_text(input_user).split(\" \")\n",
    "        terms_list.append(input_user)\n",
    "\n",
    "        input_user = input(\"Enter operator : \")\n",
    "        input_user = input_user.split(\",\")\n",
    "        operators_list.append(input_user)\n",
    "        operators_list = [[word.strip() for word in sublist] for sublist in operators_list]\n",
    "    return (terms_list, operators_list)\n",
    "        "
   ]
  },
  {
   "cell_type": "code",
   "execution_count": 84,
   "metadata": {},
   "outputs": [
    {
     "data": {
      "text/plain": [
       "{'strat': {1},\n",
       " 'springs': {1},\n",
       " 'go': {1},\n",
       " 'stability': {1},\n",
       " 'bridge': {1},\n",
       " 'floating': {1},\n",
       " 'way': {1},\n",
       " 'want': {1, 5},\n",
       " 'vintage': {1},\n",
       " 'tension': {1},\n",
       " 'great': {1, 2, 4, 5, 8},\n",
       " 'good': {1, 2, 4, 8, 9},\n",
       " 'loving': {1},\n",
       " 'color': {2, 5},\n",
       " 'enough': {2, 3, 4},\n",
       " 'roll': {2},\n",
       " 'works': {2},\n",
       " 'much': {2, 8},\n",
       " 'around': {2, 5, 6},\n",
       " 'abuse': {2},\n",
       " 'bench': {2},\n",
       " 'rugged': {2},\n",
       " 'screws': {2},\n",
       " 'makes': {2},\n",
       " 'wo': {2},\n",
       " 'easier': {2, 3, 8},\n",
       " \"n't\": {2, 3, 4, 6},\n",
       " 'mat': {2},\n",
       " 'organization': {2},\n",
       " 'workspace': {2},\n",
       " 'guitar': {2, 3, 7, 8},\n",
       " 'take': {2},\n",
       " 'care': {2},\n",
       " 'extend': {3},\n",
       " 'secure': {3},\n",
       " 'fit': {3, 9},\n",
       " 'right': {3},\n",
       " 'hanging': {3},\n",
       " 'use': {3},\n",
       " 'violins': {3},\n",
       " 'one': {3, 9},\n",
       " 'christmas': {3},\n",
       " 'several': {3},\n",
       " 'gave': {3},\n",
       " 'set': {3},\n",
       " 'yet': {3},\n",
       " 'available': {3},\n",
       " 'bass': {3, 5},\n",
       " \"'ve\": {3, 8},\n",
       " \"'re\": {3, 5},\n",
       " 'material': {3},\n",
       " 'everything': {3},\n",
       " 'grippy': {3},\n",
       " 'keeps': {3},\n",
       " 'acoustic': {3, 8},\n",
       " 'work': {3},\n",
       " 'computer': {3},\n",
       " 'ordered': {3},\n",
       " 'smaller': {3},\n",
       " 'width': {3},\n",
       " 'music': {3, 5},\n",
       " 'needing': {3},\n",
       " 'stand': {3, 9},\n",
       " 'friend': {3},\n",
       " 'feet': {3},\n",
       " 'small': {3, 6},\n",
       " 'benefit': {3},\n",
       " 'used': {3},\n",
       " 'instruments': {3},\n",
       " 'model': {3},\n",
       " 'keyboard/mouse': {3},\n",
       " 'ukuleles': {3},\n",
       " 'gig': {3},\n",
       " 'greatest': {3},\n",
       " 'maximum': {3},\n",
       " 'stage': {3, 5},\n",
       " 'etc': {3},\n",
       " 'folds': {3},\n",
       " 'well': {3},\n",
       " 'bag': {3},\n",
       " 'gentle': {3},\n",
       " 'writing': {3},\n",
       " 'ukes': {3},\n",
       " 'mine': {3},\n",
       " 'know': {3},\n",
       " 'quite': {4},\n",
       " 'hole': {4},\n",
       " 'price': {4, 7},\n",
       " 'sound': {4, 5},\n",
       " 'quality': {4, 8},\n",
       " 'close': {4},\n",
       " 'radius': {4},\n",
       " 'match': {4},\n",
       " 'dean': {5},\n",
       " 'winning': {5},\n",
       " 'picture': {5},\n",
       " 'might': {5},\n",
       " 'active': {5},\n",
       " 'split': {5},\n",
       " 'outstanding': {5},\n",
       " 'like': {5},\n",
       " 'making': {5},\n",
       " 'beatiful': {5},\n",
       " 'excellent': {5},\n",
       " 'time': {5},\n",
       " 'ago': {5},\n",
       " 'money': {5},\n",
       " 'recommend': {5},\n",
       " 'buy': {5, 7},\n",
       " 'darker': {5},\n",
       " 'boost': {5},\n",
       " 'adjust': {5},\n",
       " 'edge': {5},\n",
       " 'pickups': {5},\n",
       " 'beginner': {5},\n",
       " 'really': {5},\n",
       " 'bought': {5, 9},\n",
       " \"'s\": {5, 6, 8},\n",
       " 'tour': {5},\n",
       " 'primary': {5},\n",
       " 'and/or': {5},\n",
       " 'start': {5},\n",
       " 'allow': {5},\n",
       " 'long': {5},\n",
       " 'bit': {5},\n",
       " 'anyone': {5},\n",
       " 'tune': {6},\n",
       " 'fortissimo': {6},\n",
       " 'fun': {6},\n",
       " 'solid': {6},\n",
       " 'side': {6},\n",
       " 'built': {6},\n",
       " 'cheap': {6, 7},\n",
       " 'handle': {6},\n",
       " 'pro': {6},\n",
       " 'ca': {6},\n",
       " 'play': {6},\n",
       " 'con': {6},\n",
       " 'indonesia': {6},\n",
       " 'made': {6, 8},\n",
       " 'toy': {6},\n",
       " 'loud': {6},\n",
       " 'instrument': {6},\n",
       " 'easy': {6, 8},\n",
       " 'carry': {6},\n",
       " 'notes': {6},\n",
       " 'best': {7},\n",
       " 'hangers': {7},\n",
       " '...': {7},\n",
       " 'still': {7, 9},\n",
       " 'beat': {7},\n",
       " 'market': {7},\n",
       " 'absolute': {7},\n",
       " 'wise': {8},\n",
       " 'came': {8},\n",
       " 'labeled': {8},\n",
       " 'past': {8},\n",
       " 'classical': {8},\n",
       " 'purchased': {8},\n",
       " 'quick': {8},\n",
       " 'touch': {8},\n",
       " 'putting': {8},\n",
       " 'nylon': {8},\n",
       " 'softer': {8},\n",
       " 'daughter': {8},\n",
       " 'number': {8},\n",
       " 'name': {8},\n",
       " 'fine': {8},\n",
       " 'strings': {8},\n",
       " 'mini': {8},\n",
       " 'expected': {8},\n",
       " 'steel': {8},\n",
       " 'worked': {8},\n",
       " 'learn': {8},\n",
       " 'note': {8},\n",
       " 'expensive': {8},\n",
       " 'string': {8},\n",
       " 'little': {9},\n",
       " 'problems': {9},\n",
       " 'safe': {9},\n",
       " 'blessed': {9},\n",
       " 'poutch': {9},\n",
       " 'alto': {9},\n",
       " 'sax': {9},\n",
       " 'front': {9},\n",
       " 'reliable': {9},\n",
       " 'peg': {9},\n",
       " 'church': {9},\n",
       " 'soprano': {9},\n",
       " 'realy': {9},\n",
       " 'case': {9},\n",
       " 'lose': {9},\n",
       " 'thing': {9},\n",
       " 'exstra': {9}}"
      ]
     },
     "execution_count": 84,
     "metadata": {},
     "output_type": "execute_result"
    }
   ],
   "source": [
    "index_dict"
   ]
  },
  {
   "cell_type": "code",
   "execution_count": 88,
   "metadata": {},
   "outputs": [],
   "source": [
    "def execute_query(terms, operators, inverted_index, total_doc_num):\n",
    "    result = None\n",
    "\n",
    "    query_string = \"\"\n",
    "    for i, word in enumerate(terms):\n",
    "        query_string += word\n",
    "        if i < len(terms) - 1:\n",
    "            query_string += f' {operators[i % len(operators)]} '\n",
    "            \n",
    "    for i in range(0, len(terms)):\n",
    "         # AND, OR, AND NOT, OR NOT\n",
    "        term = terms[i]\n",
    "        if result is None:\n",
    "            result = inverted_index.get(term, set())\n",
    "            operator = \"\"\n",
    "        else:\n",
    "            operator = operators[i-1]\n",
    "            if operator == 'AND':\n",
    "                result = result.intersection(inverted_index.get(term, set()))\n",
    "\n",
    "            elif operator == 'OR':\n",
    "                result = result.union(inverted_index.get(term, set()))\n",
    "\n",
    "            elif operator == 'AND NOT':\n",
    "                total_docs = set(range(1, total_doc_num)) \n",
    "                not_term = total_docs.difference(inverted_index.get(term, set()))\n",
    "                result = result.intersection(not_term)\n",
    "\n",
    "            elif operator == 'OR NOT':\n",
    "                total_docs = set(range(1, total_doc_num)) \n",
    "                not_term = total_docs.difference(inverted_index.get(term, set()))\n",
    "                result = result.union(not_term)\n",
    "        print(result)\n",
    "    print(\"*\"*20)\n",
    "    print(query_string)\n",
    "    # Display the query results\n",
    "    # print(f\"Query {query}:\")\n",
    "    print(f\"Number of documents retrieved: {len(result)}\")\n",
    "    print(f\"Documents retrieved:\", result)\n",
    "    print(\"*\"*20)"
   ]
  },
  {
   "cell_type": "code",
   "execution_count": 89,
   "metadata": {},
   "outputs": [
    {
     "name": "stdout",
     "output_type": "stream",
     "text": [
      "[['easier', 'guitar'], ['easier', 'good', 'guitar'], ['guitar', 'good']] [['AND'], ['OR', 'OR'], ['AND NOT']]\n"
     ]
    }
   ],
   "source": [
    "n = int(input(\"Enter the number of queries : \"))\n",
    "terms_list, operators_list = take_input(n)\n",
    "print(terms_list,operators_list)"
   ]
  },
  {
   "cell_type": "code",
   "execution_count": 91,
   "metadata": {},
   "outputs": [
    {
     "name": "stdout",
     "output_type": "stream",
     "text": [
      "[['easier', 'guitar'], ['easier', 'good', 'guitar'], ['guitar', 'good']] [['AND'], ['OR', 'OR'], ['AND NOT']]\n",
      "{8, 2, 3}\n",
      "{8, 2, 3, 7}\n",
      "{1, 2, 4, 8, 9}\n"
     ]
    }
   ],
   "source": [
    "# print(terms_list,operators_list)\n",
    "# print(index_dict['easier'])\n",
    "# print(index_dict['guitar'])\n",
    "# print(index_dict['good'])"
   ]
  },
  {
   "cell_type": "code",
   "execution_count": 76,
   "metadata": {},
   "outputs": [
    {
     "name": "stdout",
     "output_type": "stream",
     "text": [
      "{3}\n"
     ]
    },
    {
     "ename": "KeyError",
     "evalue": "'canister'",
     "output_type": "error",
     "traceback": [
      "\u001b[0;31m---------------------------------------------------------------------------\u001b[0m",
      "\u001b[0;31mKeyError\u001b[0m                                  Traceback (most recent call last)",
      "Cell \u001b[0;32mIn[76], line 3\u001b[0m\n\u001b[1;32m      1\u001b[0m \u001b[38;5;66;03m# print(index_dict['car'])\u001b[39;00m\n\u001b[1;32m      2\u001b[0m \u001b[38;5;28mprint\u001b[39m(index_dict[\u001b[38;5;124m'\u001b[39m\u001b[38;5;124mbag\u001b[39m\u001b[38;5;124m'\u001b[39m])\n\u001b[0;32m----> 3\u001b[0m \u001b[38;5;28mprint\u001b[39m(\u001b[43mindex_dict\u001b[49m\u001b[43m[\u001b[49m\u001b[38;5;124;43m'\u001b[39;49m\u001b[38;5;124;43mcanister\u001b[39;49m\u001b[38;5;124;43m'\u001b[39;49m\u001b[43m]\u001b[49m)\n",
      "\u001b[0;31mKeyError\u001b[0m: 'canister'"
     ]
    }
   ],
   "source": [
    "# print(index_dict['car'])\n",
    "# print(index_dict['bag'])\n",
    "# print(index_dict['canister'])"
   ]
  },
  {
   "cell_type": "code",
   "execution_count": 90,
   "metadata": {},
   "outputs": [
    {
     "name": "stdout",
     "output_type": "stream",
     "text": [
      "{8, 2, 3}\n",
      "{8, 2, 3}\n",
      "********************\n",
      "easier AND guitar\n",
      "Number of documents retrieved: 3\n",
      "Documents retrieved: {8, 2, 3}\n",
      "********************\n",
      "{8, 2, 3}\n",
      "{1, 2, 3, 4, 8, 9}\n",
      "{1, 2, 3, 4, 7, 8, 9}\n",
      "********************\n",
      "easier OR good OR guitar\n",
      "Number of documents retrieved: 7\n",
      "Documents retrieved: {1, 2, 3, 4, 7, 8, 9}\n",
      "********************\n",
      "{8, 2, 3, 7}\n",
      "{3, 7}\n",
      "********************\n",
      "guitar AND NOT good\n",
      "Number of documents retrieved: 2\n",
      "Documents retrieved: {3, 7}\n",
      "********************\n"
     ]
    }
   ],
   "source": [
    "for query_index in range(n):\n",
    "    execute_query(terms_list[query_index], operators_list[query_index], index_dict, 9)"
   ]
  },
  {
   "cell_type": "code",
   "execution_count": null,
   "metadata": {},
   "outputs": [],
   "source": [
    "# for i in range(0, len(terms), 2):\n",
    "#         # AND, OR, AND NOT, OR NOT\n",
    "#     term = terms[i]\n",
    "#     operator = terms[i+1] "
   ]
  }
 ],
 "metadata": {
  "kernelspec": {
   "display_name": ".venv",
   "language": "python",
   "name": "python3"
  },
  "language_info": {
   "codemirror_mode": {
    "name": "ipython",
    "version": 3
   },
   "file_extension": ".py",
   "mimetype": "text/x-python",
   "name": "python",
   "nbconvert_exporter": "python",
   "pygments_lexer": "ipython3",
   "version": "3.10.10"
  }
 },
 "nbformat": 4,
 "nbformat_minor": 2
}
